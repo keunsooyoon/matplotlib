{
  "nbformat": 4,
  "nbformat_minor": 0,
  "metadata": {
    "colab": {
      "name": "WordCloud.ipynb",
      "provenance": [],
      "authorship_tag": "ABX9TyNi4RuQRKigKvMJMAzznNdQ",
      "include_colab_link": true
    },
    "kernelspec": {
      "name": "python3",
      "display_name": "Python 3"
    },
    "language_info": {
      "name": "python"
    }
  },
  "cells": [
    {
      "cell_type": "markdown",
      "metadata": {
        "id": "view-in-github",
        "colab_type": "text"
      },
      "source": [
        "<a href=\"https://colab.research.google.com/github/keunsooyoon/matplotlib/blob/main/WordCloud.ipynb\" target=\"_parent\"><img src=\"https://colab.research.google.com/assets/colab-badge.svg\" alt=\"Open In Colab\"/></a>"
      ]
    },
    {
      "cell_type": "code",
      "metadata": {
        "colab": {
          "base_uri": "https://localhost:8080/"
        },
        "id": "0F6y6-Flm-_N",
        "outputId": "18aa0655-1152-4536-9421-9c2b48765248"
      },
      "source": [
        "\n",
        "!sudo apt-get install -y fonts-nanum\n",
        "\n",
        "!sudo fc-cache -fv\n",
        "\n",
        "!rm ~/.cache/matplotlib -rf\n",
        "\n",
        "import matplotlib.pyplot as plt\n",
        "\n",
        "\n",
        "plt.rc('font', family='NanumBarunGothic')"
      ],
      "execution_count": 2,
      "outputs": [
        {
          "output_type": "stream",
          "name": "stdout",
          "text": [
            "Reading package lists... Done\n",
            "Building dependency tree       \n",
            "Reading state information... Done\n",
            "fonts-nanum is already the newest version (20170925-1).\n",
            "0 upgraded, 0 newly installed, 0 to remove and 37 not upgraded.\n",
            "/usr/share/fonts: caching, new cache contents: 0 fonts, 1 dirs\n",
            "/usr/share/fonts/truetype: caching, new cache contents: 0 fonts, 3 dirs\n",
            "/usr/share/fonts/truetype/humor-sans: caching, new cache contents: 1 fonts, 0 dirs\n",
            "/usr/share/fonts/truetype/liberation: caching, new cache contents: 16 fonts, 0 dirs\n",
            "/usr/share/fonts/truetype/nanum: caching, new cache contents: 10 fonts, 0 dirs\n",
            "/usr/local/share/fonts: caching, new cache contents: 0 fonts, 0 dirs\n",
            "/root/.local/share/fonts: skipping, no such directory\n",
            "/root/.fonts: skipping, no such directory\n",
            "/var/cache/fontconfig: cleaning cache directory\n",
            "/root/.cache/fontconfig: not cleaning non-existent cache directory\n",
            "/root/.fontconfig: not cleaning non-existent cache directory\n",
            "fc-cache: succeeded\n"
          ]
        }
      ]
    },
    {
      "cell_type": "code",
      "metadata": {
        "id": "-dLxXFsBii3N"
      },
      "source": [
        "# http://wordcloud.kr/\n",
        "\n",
        "#       글자색 : 글자 색상 스타일 설정\n",
        "#       폰트 : 출력될 글꼴 설정\n",
        "#       배경색 : 출력될 워드 클라우드의 배경색을 설정\n",
        "#       마스크 : 출력될 워드 클라우드의 형태 설정\n",
        "#       이미지크기 : 워드 클라우드의 이미지 사이즈 설정\n",
        "#       최대 단어수 : 워드 클라우드에 출력할 단어의 최대수 설정\n",
        "#       키워드 : 크게 출력하고 싶은 3가지 글자 입력\n",
        "#       텍스트 : 워드 클라우드에 출력할 단어들을 띄어쓰기로 입력 \n",
        "#       (여러 번 입력하는 단어는 다른 단어들보다 크게 출력됨)\n",
        "\n",
        "\n",
        "# https://www.wordclouds.com/\n",
        "\n",
        "\n",
        "#       Size : 워드 클라우드의 이미지 사이즈 설정\n",
        "#       Gap size : 글자 사이의 간격 설정\n",
        "#       시계방향 화살표 : 글자 방향(가로 쓰기, 세로 쓰기, 대각선 등) 설정\n",
        "#       Shape : 출력될 워드 클라우드의 형태 설정\n",
        "#       Mask : 출력될 워드 클라우드의 배경색 여부\n",
        "#       Theme : 글자 색상 스타일 설정\n",
        "#       Colors : 글자 색상 조정\n",
        "#       Font : 글꼴 설정 (한글은 변경 불가)\n",
        "      \n",
        "\n"
      ],
      "execution_count": null,
      "outputs": []
    },
    {
      "cell_type": "code",
      "metadata": {
        "colab": {
          "base_uri": "https://localhost:8080/"
        },
        "id": "Ce-5P1bhkL2S",
        "outputId": "1b6574b0-4a89-4242-b7b4-8b769a49c014"
      },
      "source": [
        "#!pip install wordcloud                           # 워드 클라우드를 그려주는 라이브러리\n",
        "# or conda install wordcloud\n",
        "\n"
      ],
      "execution_count": 2,
      "outputs": [
        {
          "output_type": "stream",
          "name": "stdout",
          "text": [
            "Requirement already satisfied: wordcloud in /usr/local/lib/python3.7/dist-packages (1.5.0)\n",
            "Requirement already satisfied: pillow in /usr/local/lib/python3.7/dist-packages (from wordcloud) (7.1.2)\n",
            "Requirement already satisfied: numpy>=1.6.1 in /usr/local/lib/python3.7/dist-packages (from wordcloud) (1.19.5)\n"
          ]
        }
      ]
    },
    {
      "cell_type": "code",
      "metadata": {
        "id": "nzBLR9KgocM2"
      },
      "source": [
        ""
      ],
      "execution_count": null,
      "outputs": []
    },
    {
      "cell_type": "code",
      "metadata": {
        "colab": {
          "base_uri": "https://localhost:8080/"
        },
        "id": "VMLjGGSMk50I",
        "outputId": "ac90cd9e-b788-4596-ed52-8336ad452d51"
      },
      "source": [
        "from wordcloud import WordCloud\n",
        "\n",
        "text = \"\"\n",
        "\n",
        "with open(\"애국가4.txt\", \"r\", encoding=\"utf-8\") as f:\n",
        "    lines = f.readlines()\n",
        "    for line in lines:\n",
        "            text += line\n",
        "\n",
        "font_path = 'C:/Windows/Fonts/NanumBarunGothic.ttf'\n",
        "\n",
        "wc = WordCloud(font_path=font_path, background_color=\"white\", width=600, height=400)\n",
        "wc.generate(text)\n",
        "wc.to_file(\"result1.png\")\n"
      ],
      "execution_count": 6,
      "outputs": [
        {
          "output_type": "execute_result",
          "data": {
            "text/plain": [
              "<wordcloud.wordcloud.WordCloud at 0x7f662507f7d0>"
            ]
          },
          "metadata": {},
          "execution_count": 6
        }
      ]
    },
    {
      "cell_type": "code",
      "metadata": {
        "colab": {
          "base_uri": "https://localhost:8080/"
        },
        "id": "w0H8tk4Iocs9",
        "outputId": "1061f21a-256e-42bb-b68a-da4d093d9812"
      },
      "source": [
        "from wordcloud import WordCloud\n",
        "from PIL import Image\n",
        "import numpy as np\n",
        "\n",
        "\n",
        "\n",
        "text = \"\"\n",
        "\n",
        "with open(\"애국가4.txt\", \"r\", encoding=\"utf-8\") as f:\n",
        "    lines = f.readlines()\n",
        "    for line in lines:\n",
        "            text += line\n",
        "# font_path = 'C:/Windows/Fonts/NanumBarunGothic.ttf'\n",
        "\n",
        "mask = np.array(Image.open('cloud.png'))\n",
        "wc = WordCloud(font_path=font_path, background_color=\"white\", mask=mask)\n",
        "wc.generate(text)\n",
        "wc.to_file(\"result2.png\")\n"
      ],
      "execution_count": 9,
      "outputs": [
        {
          "output_type": "execute_result",
          "data": {
            "text/plain": [
              "<wordcloud.wordcloud.WordCloud at 0x7f6624f41450>"
            ]
          },
          "metadata": {},
          "execution_count": 9
        }
      ]
    },
    {
      "cell_type": "code",
      "metadata": {
        "colab": {
          "base_uri": "https://localhost:8080/"
        },
        "id": "FdE2D-QeqxO6",
        "outputId": "b47b43ab-1745-44a2-d9d1-5521b9e14d19"
      },
      "source": [
        "!pip install konlpy\n",
        "\n",
        "from konlpy.tag import Twitter \n",
        "from collections import Counter\n",
        "\n",
        "# Twitter는 konlpy의 여러 패키지 중 하나로 형태소를 분석해준다.\n",
        "\n",
        "# Counter 는 단어를 카운팅 해주는 패키지.\n",
        "\n",
        "\n",
        "\n"
      ],
      "execution_count": 11,
      "outputs": [
        {
          "output_type": "stream",
          "name": "stdout",
          "text": [
            "Collecting konlpy\n",
            "  Downloading konlpy-0.5.2-py2.py3-none-any.whl (19.4 MB)\n",
            "\u001b[K     |████████████████████████████████| 19.4 MB 5.7 MB/s \n",
            "\u001b[?25hRequirement already satisfied: lxml>=4.1.0 in /usr/local/lib/python3.7/dist-packages (from konlpy) (4.2.6)\n",
            "Collecting JPype1>=0.7.0\n",
            "  Downloading JPype1-1.3.0-cp37-cp37m-manylinux_2_5_x86_64.manylinux1_x86_64.whl (448 kB)\n",
            "\u001b[K     |████████████████████████████████| 448 kB 54.8 MB/s \n",
            "\u001b[?25hCollecting beautifulsoup4==4.6.0\n",
            "  Downloading beautifulsoup4-4.6.0-py3-none-any.whl (86 kB)\n",
            "\u001b[K     |████████████████████████████████| 86 kB 6.9 MB/s \n",
            "\u001b[?25hRequirement already satisfied: tweepy>=3.7.0 in /usr/local/lib/python3.7/dist-packages (from konlpy) (3.10.0)\n",
            "Collecting colorama\n",
            "  Downloading colorama-0.4.4-py2.py3-none-any.whl (16 kB)\n",
            "Requirement already satisfied: numpy>=1.6 in /usr/local/lib/python3.7/dist-packages (from konlpy) (1.19.5)\n",
            "Requirement already satisfied: typing-extensions in /usr/local/lib/python3.7/dist-packages (from JPype1>=0.7.0->konlpy) (3.10.0.2)\n",
            "Requirement already satisfied: requests[socks]>=2.11.1 in /usr/local/lib/python3.7/dist-packages (from tweepy>=3.7.0->konlpy) (2.23.0)\n",
            "Requirement already satisfied: requests-oauthlib>=0.7.0 in /usr/local/lib/python3.7/dist-packages (from tweepy>=3.7.0->konlpy) (1.3.0)\n",
            "Requirement already satisfied: six>=1.10.0 in /usr/local/lib/python3.7/dist-packages (from tweepy>=3.7.0->konlpy) (1.15.0)\n",
            "Requirement already satisfied: oauthlib>=3.0.0 in /usr/local/lib/python3.7/dist-packages (from requests-oauthlib>=0.7.0->tweepy>=3.7.0->konlpy) (3.1.1)\n",
            "Requirement already satisfied: urllib3!=1.25.0,!=1.25.1,<1.26,>=1.21.1 in /usr/local/lib/python3.7/dist-packages (from requests[socks]>=2.11.1->tweepy>=3.7.0->konlpy) (1.24.3)\n",
            "Requirement already satisfied: idna<3,>=2.5 in /usr/local/lib/python3.7/dist-packages (from requests[socks]>=2.11.1->tweepy>=3.7.0->konlpy) (2.10)\n",
            "Requirement already satisfied: chardet<4,>=3.0.2 in /usr/local/lib/python3.7/dist-packages (from requests[socks]>=2.11.1->tweepy>=3.7.0->konlpy) (3.0.4)\n",
            "Requirement already satisfied: certifi>=2017.4.17 in /usr/local/lib/python3.7/dist-packages (from requests[socks]>=2.11.1->tweepy>=3.7.0->konlpy) (2021.10.8)\n",
            "Requirement already satisfied: PySocks!=1.5.7,>=1.5.6 in /usr/local/lib/python3.7/dist-packages (from requests[socks]>=2.11.1->tweepy>=3.7.0->konlpy) (1.7.1)\n",
            "Installing collected packages: JPype1, colorama, beautifulsoup4, konlpy\n",
            "  Attempting uninstall: beautifulsoup4\n",
            "    Found existing installation: beautifulsoup4 4.6.3\n",
            "    Uninstalling beautifulsoup4-4.6.3:\n",
            "      Successfully uninstalled beautifulsoup4-4.6.3\n",
            "Successfully installed JPype1-1.3.0 beautifulsoup4-4.6.0 colorama-0.4.4 konlpy-0.5.2\n"
          ]
        }
      ]
    },
    {
      "cell_type": "code",
      "metadata": {
        "colab": {
          "base_uri": "https://localhost:8080/"
        },
        "id": "yyb-amuDrBf6",
        "outputId": "6cc85ead-a0da-437f-9630-0361f7126131"
      },
      "source": [
        "file = open(\"애국가4.txt\", 'r') \n",
        "\n",
        "lists = file.readlines() \n",
        "\n",
        "file.close() \n",
        "\n",
        "lists\n",
        "\n"
      ],
      "execution_count": 12,
      "outputs": [
        {
          "output_type": "execute_result",
          "data": {
            "text/plain": [
              "['동해물과 백두산이 마르고 닳도록\\n',\n",
              " '하느님이 보우하사 우리나라만세\\n',\n",
              " '(후렴)무궁화 삼천리 화려강산 대한사람 대한으로 길이 보전하세\\n',\n",
              " '\\n',\n",
              " '\\n',\n",
              " '남산위에 저 소나무 철갑을 두른듯\\n',\n",
              " '바람서리 불변함은 우리기상 일세\\n',\n",
              " '(후렴)무궁화 삼천리 화려강산 대한사람 대한으로 길이보전하세\\n',\n",
              " '\\n',\n",
              " '(3절)\\n',\n",
              " '가을하늘 공활한데 높고 구름없이 \\n',\n",
              " '밝은달은 우리가슴 일편단심일세\\n',\n",
              " '(후렴)무궁화 삼천리 화려강산 대한사람 대한으로 길이보전하세\\n',\n",
              " '\\n',\n",
              " '(4절)\\n',\n",
              " '이 기상과 이 맘으로 충성을 다하여\\n',\n",
              " '괴로우나 즐거우나 나라사랑하세\\n',\n",
              " '(후렴)무궁화 삼천리 화려강산 대한사람 대한으로 길이보전하세\\n',\n",
              " '\\n']"
            ]
          },
          "metadata": {},
          "execution_count": 12
        }
      ]
    },
    {
      "cell_type": "code",
      "metadata": {
        "colab": {
          "base_uri": "https://localhost:8080/"
        },
        "id": "NymviTXCrWef",
        "outputId": "efa32ab4-5f88-4a7d-9709-93cff84f5898"
      },
      "source": [
        "# 3) 형태소 나누기\n",
        "\n",
        "twitter = Twitter() \n",
        "morphs = [] \n",
        "for sentence in lists: \n",
        "  morphs.append(twitter.pos(sentence)) \n",
        "\n",
        "print(morphs)\n",
        "\n",
        "# morphs = [] morphs라는 빈 리스트를 만들고 그 리스트에 추가(append)한다.\n",
        "# 무엇을?\n",
        "# lists에 있는 글(sentence)의 형태소를 분석한(twitter) 결과를.  "
      ],
      "execution_count": 13,
      "outputs": [
        {
          "output_type": "stream",
          "name": "stderr",
          "text": [
            "/usr/local/lib/python3.7/dist-packages/konlpy/tag/_okt.py:16: UserWarning: \"Twitter\" has changed to \"Okt\" since KoNLPy v0.4.5.\n",
            "  warn('\"Twitter\" has changed to \"Okt\" since KoNLPy v0.4.5.')\n"
          ]
        },
        {
          "output_type": "stream",
          "name": "stdout",
          "text": [
            "[[('동', 'Modifier'), ('해물', 'Noun'), ('과', 'Josa'), ('백두산', 'Noun'), ('이', 'Josa'), ('마르고', 'Noun'), ('닳도록', 'Verb'), ('\\n', 'Foreign')], [('하느님', 'Noun'), ('이', 'Josa'), ('보우', 'Noun'), ('하사', 'Noun'), ('우리나라', 'Noun'), ('만세', 'Noun'), ('\\n', 'Foreign')], [('(', 'Punctuation'), ('후렴', 'Noun'), (')', 'Punctuation'), ('무궁화', 'Noun'), ('삼천리', 'Noun'), ('화려', 'Noun'), ('강산', 'Noun'), ('대한', 'Noun'), ('사람', 'Noun'), ('대한', 'Noun'), ('으로', 'Josa'), ('길이', 'Noun'), ('보전', 'Noun'), ('하세', 'Verb'), ('\\n', 'Foreign')], [('\\n', 'Foreign')], [('\\n', 'Foreign')], [('남산', 'Noun'), ('위', 'Noun'), ('에', 'Josa'), ('저', 'Noun'), ('소나무', 'Noun'), ('철갑', 'Noun'), ('을', 'Josa'), ('두른듯', 'Verb'), ('\\n', 'Foreign')], [('바람', 'Noun'), ('서리', 'Noun'), ('불변', 'Noun'), ('함', 'Noun'), ('은', 'Josa'), ('우리', 'Noun'), ('기상', 'Noun'), ('일세', 'Verb'), ('\\n', 'Foreign')], [('(', 'Punctuation'), ('후렴', 'Noun'), (')', 'Punctuation'), ('무궁화', 'Noun'), ('삼천리', 'Noun'), ('화려', 'Noun'), ('강산', 'Noun'), ('대한', 'Noun'), ('사람', 'Noun'), ('대한', 'Noun'), ('으로', 'Josa'), ('길이', 'Noun'), ('보전', 'Noun'), ('하세', 'Verb'), ('\\n', 'Foreign')], [('\\n', 'Foreign')], [('(', 'Punctuation'), ('3', 'Number'), ('절', 'Noun'), (')', 'Punctuation'), ('\\n', 'Foreign')], [('가을', 'Noun'), ('하늘', 'Noun'), ('공', 'Modifier'), ('활', 'Noun'), ('한', 'Determiner'), ('데', 'Noun'), ('높고', 'Adjective'), ('구름', 'Noun'), ('없이', 'Adverb')], [('밝은', 'Verb'), ('달', 'Noun'), ('은', 'Josa'), ('우리', 'Noun'), ('가슴', 'Noun'), ('일편단심', 'Noun'), ('일세', 'Verb'), ('\\n', 'Foreign')], [('(', 'Punctuation'), ('후렴', 'Noun'), (')', 'Punctuation'), ('무궁화', 'Noun'), ('삼천리', 'Noun'), ('화려', 'Noun'), ('강산', 'Noun'), ('대한', 'Noun'), ('사람', 'Noun'), ('대한', 'Noun'), ('으로', 'Josa'), ('길이', 'Noun'), ('보전', 'Noun'), ('하세', 'Verb'), ('\\n', 'Foreign')], [('\\n', 'Foreign')], [('(', 'Punctuation'), ('4', 'Number'), ('절', 'Noun'), (')', 'Punctuation'), ('\\n', 'Foreign')], [('이', 'Noun'), ('기상', 'Noun'), ('과', 'Josa'), ('이', 'Noun'), ('맘', 'Noun'), ('으로', 'Josa'), ('충성', 'Noun'), ('을', 'Josa'), ('다', 'Adverb'), ('하여', 'Verb'), ('\\n', 'Foreign')], [('괴로우나', 'Adjective'), ('즐거우나', 'Adjective'), ('나라', 'Noun'), ('사랑', 'Noun'), ('하세', 'Verb'), ('\\n', 'Foreign')], [('(', 'Punctuation'), ('후렴', 'Noun'), (')', 'Punctuation'), ('무궁화', 'Noun'), ('삼천리', 'Noun'), ('화려', 'Noun'), ('강산', 'Noun'), ('대한', 'Noun'), ('사람', 'Noun'), ('대한', 'Noun'), ('으로', 'Josa'), ('길이', 'Noun'), ('보전', 'Noun'), ('하세', 'Verb'), ('\\n', 'Foreign')], [('\\n', 'Foreign')]]\n"
          ]
        }
      ]
    },
    {
      "cell_type": "code",
      "metadata": {
        "colab": {
          "base_uri": "https://localhost:8080/"
        },
        "id": "gG4RLIYuruj8",
        "outputId": "faab6646-c506-483d-e52d-def34504a8f3"
      },
      "source": [
        "noun_adj_adv_list=[] \n",
        "\n",
        "for sentence in morphs : \n",
        "  for word, tag in sentence : \n",
        "    if tag in ['Noun'] and (\"것\" not in word) and (\"내\" not in word)and (\"나\" not in word)and (\"수\"not in word) and(\"게\"not in word)and(\"말\"not in word): \n",
        "      noun_adj_adv_list.append(word) \n",
        "      \n",
        "print(noun_adj_adv_list)\n",
        "\n",
        "\n",
        "# 만약(if) tag 안에 명사, 형용사, 부사['Noun','Adjective','Adverb']가 있으면\n",
        "# 내가 만든 빈 리스트(noun_adj_adv_list)에 앞의 단어(word)를 추가(append)한다.  \n",
        "# 워드 클라우드 결과에 도움이 되지 않는 '것', '나', '내' 는 제외한다.\n",
        "# 결과는 내가 만든 조건에 충족하는 word만 출력된 리스트다.\n"
      ],
      "execution_count": 14,
      "outputs": [
        {
          "output_type": "stream",
          "name": "stdout",
          "text": [
            "['해물', '백두산', '마르고', '하느님', '보우', '하사', '만세', '후렴', '무궁화', '삼천리', '화려', '강산', '대한', '사람', '대한', '길이', '보전', '남산', '위', '저', '철갑', '바람', '서리', '불변', '함', '우리', '기상', '후렴', '무궁화', '삼천리', '화려', '강산', '대한', '사람', '대한', '길이', '보전', '절', '가을', '하늘', '활', '데', '구름', '달', '우리', '가슴', '일편단심', '후렴', '무궁화', '삼천리', '화려', '강산', '대한', '사람', '대한', '길이', '보전', '절', '이', '기상', '이', '맘', '충성', '사랑', '후렴', '무궁화', '삼천리', '화려', '강산', '대한', '사람', '대한', '길이', '보전']\n"
          ]
        }
      ]
    },
    {
      "cell_type": "code",
      "metadata": {
        "colab": {
          "base_uri": "https://localhost:8080/"
        },
        "id": "UYip0BY3sSK-",
        "outputId": "646eb5bd-691a-4fb6-be12-db632179d1f3"
      },
      "source": [
        "from collections import Counter\n",
        "\n",
        "count = Counter(noun_adj_adv_list)\n",
        "\n",
        "words = count.most_common()\n",
        "\n",
        "words\n",
        "\n"
      ],
      "execution_count": 30,
      "outputs": [
        {
          "output_type": "execute_result",
          "data": {
            "text/plain": [
              "[('대한', 8),\n",
              " ('후렴', 4),\n",
              " ('무궁화', 4),\n",
              " ('삼천리', 4),\n",
              " ('화려', 4),\n",
              " ('강산', 4),\n",
              " ('사람', 4),\n",
              " ('길이', 4),\n",
              " ('보전', 4),\n",
              " ('우리', 2),\n",
              " ('기상', 2),\n",
              " ('절', 2),\n",
              " ('이', 2),\n",
              " ('해물', 1),\n",
              " ('백두산', 1),\n",
              " ('마르고', 1),\n",
              " ('하느님', 1),\n",
              " ('보우', 1),\n",
              " ('하사', 1),\n",
              " ('만세', 1),\n",
              " ('남산', 1),\n",
              " ('위', 1),\n",
              " ('저', 1),\n",
              " ('철갑', 1),\n",
              " ('바람', 1),\n",
              " ('서리', 1),\n",
              " ('불변', 1),\n",
              " ('함', 1),\n",
              " ('가을', 1),\n",
              " ('하늘', 1),\n",
              " ('활', 1),\n",
              " ('데', 1),\n",
              " ('구름', 1),\n",
              " ('달', 1),\n",
              " ('가슴', 1),\n",
              " ('일편단심', 1),\n",
              " ('맘', 1),\n",
              " ('충성', 1),\n",
              " ('사랑', 1)]"
            ]
          },
          "metadata": {},
          "execution_count": 30
        }
      ]
    },
    {
      "cell_type": "code",
      "metadata": {
        "id": "e-DflNGysH4c"
      },
      "source": [
        "#!pip install nltk\n",
        "\n",
        "from wordcloud import WordCloud \n",
        "import matplotlib.pyplot as plt \n",
        "import nltk \n",
        "from nltk.corpus import stopwords\n",
        "\n"
      ],
      "execution_count": 18,
      "outputs": []
    },
    {
      "cell_type": "code",
      "metadata": {
        "id": "nLHivv2xtXXV"
      },
      "source": [
        "%matplotlib inline \n",
        "import matplotlib \n",
        "from IPython.display import set_matplotlib_formats \n",
        "matplotlib.rc('font',family = 'Malgun Gothic') \n",
        "set_matplotlib_formats('retina') \n",
        "matplotlib.rc('axes',unicode_minus = False)\n"
      ],
      "execution_count": 20,
      "outputs": []
    },
    {
      "cell_type": "code",
      "metadata": {
        "colab": {
          "base_uri": "https://localhost:8080/"
        },
        "id": "ORCOLhIRtnzS",
        "outputId": "ee68e723-0650-4b7d-d41f-d396ca72b771"
      },
      "source": [
        "\n",
        "\n",
        "wordcloud = WordCloud(background_color='white',colormap = \"Accent_r\", width=1500, height=1000).generate_from_frequencies(words) \n",
        "wordcloud.generate(text)\n",
        "wc.to_file(\"result4.png\")"
      ],
      "execution_count": 25,
      "outputs": [
        {
          "output_type": "execute_result",
          "data": {
            "text/plain": [
              "<wordcloud.wordcloud.WordCloud at 0x7f6624f41450>"
            ]
          },
          "metadata": {},
          "execution_count": 25
        }
      ]
    }
  ]
}